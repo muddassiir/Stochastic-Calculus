{
 "cells": [
  {
   "cell_type": "markdown",
   "metadata": {},
   "source": [
    "## To Calculate reiman sum from left end approximation, right end approximation and mid point approximation method"
   ]
  },
  {
   "cell_type": "markdown",
   "metadata": {},
   "source": [
    "## Instructions to use this code for calculating reimansum\n",
    "        i_ First of all create a object of class named reiman_sum and pass three parameters first one is N then upper limit then\n",
    "            lower limit.\n",
    "        ii_ There are four method.\n",
    "            (a)left_end_approx()    for left end approximation.\n",
    "            (b)right_end_approx()   for right end approximation.\n",
    "            (c)mid_point_approx()   for mid point approximation.\n",
    "            (d)rsum(your fn here w.r.t \"x\")   for calculating area of all approximation.\n",
    "        iii_ After creating object you have to choose desired approximation method and then run area method to calculate."
   ]
  },
  {
   "cell_type": "code",
   "execution_count": 81,
   "metadata": {},
   "outputs": [],
   "source": [
    "import numpy as np\n",
    "class reiman_sum:\n",
    "    def __init__(self,N,upper_limit,lower_limit):\n",
    "        global delta_x\n",
    "        self.N=N\n",
    "        self.b=upper_limit\n",
    "        self.a=lower_limit\n",
    "        delta_x=(upper_limit-lower_limit)/ N\n",
    "    def left_end_approx(self):\n",
    "        global x\n",
    "        x=[self.a]\n",
    "        for i in range(self.N-1):\n",
    "            element=x[i]+delta_x\n",
    "            x.append(element)\n",
    "        x=np.array(x)\n",
    "        print(f\"x={x}\")\n",
    "    def right_end_approx(self):\n",
    "        global x\n",
    "        x=[self.a+delta_x]\n",
    "        for i in range(self.N-1):\n",
    "            element=x[i]+delta_x\n",
    "            x.append(element)\n",
    "        x=np.array(x)\n",
    "        print(f\"x={x}\")\n",
    "    def mid_point_approx(self):\n",
    "        global x\n",
    "        mid_point=(self.a+delta_x)/2\n",
    "        x=[mid_point]\n",
    "        for i in range(self.N-1):\n",
    "            element=x[i]+delta_x\n",
    "            x.append(element)\n",
    "        x=np.array(x)\n",
    "        print(f\"x={x}\")\n",
    "    def rsum(self,fx):\n",
    "        self.fn=fx\n",
    "        fn=np.array(fx)\n",
    "        area=np.array(fn*delta_x)\n",
    "        left_end_approximation=area.sum()\n",
    "        print(f\"The approximation with Reiman Sum is {left_end_approximation}\")"
   ]
  },
  {
   "cell_type": "markdown",
   "metadata": {},
   "source": [
    "#### Q1 : Calculate Reiman sum of N = 10, upper limit = 3 and lower limit = 0, given that the fn is 9-x^2"
   ]
  },
  {
   "cell_type": "markdown",
   "metadata": {},
   "source": [
    "### Left end Approximation"
   ]
  },
  {
   "cell_type": "code",
   "execution_count": 82,
   "metadata": {},
   "outputs": [],
   "source": [
    "#creating object N=10, upper limit is 3 and lower limit  is 0.\n",
    "a=reiman_sum(10,3,0)"
   ]
  },
  {
   "cell_type": "code",
   "execution_count": 83,
   "metadata": {},
   "outputs": [
    {
     "name": "stdout",
     "output_type": "stream",
     "text": [
      "x=[0.  0.3 0.6 0.9 1.2 1.5 1.8 2.1 2.4 2.7]\n"
     ]
    }
   ],
   "source": [
    "# Find the value of x which is actually interval points\n",
    "a.left_end_approx()"
   ]
  },
  {
   "cell_type": "code",
   "execution_count": 84,
   "metadata": {},
   "outputs": [
    {
     "data": {
      "text/plain": [
       "array([0. , 0.3, 0.6, 0.9, 1.2, 1.5, 1.8, 2.1, 2.4, 2.7])"
      ]
     },
     "execution_count": 84,
     "metadata": {},
     "output_type": "execute_result"
    }
   ],
   "source": [
    "# Interval points are following with  step size 10 because N=10\n",
    "x"
   ]
  },
  {
   "cell_type": "code",
   "execution_count": 85,
   "metadata": {},
   "outputs": [
    {
     "data": {
      "text/plain": [
       "array([9.  , 8.91, 8.64, 8.19, 7.56, 6.75, 5.76, 4.59, 3.24, 1.71])"
      ]
     },
     "execution_count": 85,
     "metadata": {},
     "output_type": "execute_result"
    }
   ],
   "source": [
    "# function value from the above values of x\n",
    "9-x**2"
   ]
  },
  {
   "cell_type": "code",
   "execution_count": 86,
   "metadata": {},
   "outputs": [
    {
     "name": "stdout",
     "output_type": "stream",
     "text": [
      "The approximation with Reiman Sum is 19.305000000000003\n"
     ]
    }
   ],
   "source": [
    "# Find reiman sum with the help of rsum method\n",
    "a.rsum(9-x**2)"
   ]
  },
  {
   "cell_type": "markdown",
   "metadata": {},
   "source": [
    "### Right end approximation"
   ]
  },
  {
   "cell_type": "code",
   "execution_count": 87,
   "metadata": {},
   "outputs": [],
   "source": [
    "#creating object N=10, upper limit is 3 and lower limit  is 0.\n",
    "# you can also calculate all method with  single object but not suggested to do this.\n",
    "b=reiman_sum(10,3,0)"
   ]
  },
  {
   "cell_type": "code",
   "execution_count": 88,
   "metadata": {},
   "outputs": [
    {
     "name": "stdout",
     "output_type": "stream",
     "text": [
      "x=[0.3 0.6 0.9 1.2 1.5 1.8 2.1 2.4 2.7 3. ]\n"
     ]
    }
   ],
   "source": [
    "# Find the value of x which is actually interval points\n",
    "b.right_end_approx()"
   ]
  },
  {
   "cell_type": "code",
   "execution_count": 89,
   "metadata": {},
   "outputs": [
    {
     "data": {
      "text/plain": [
       "array([8.91000000e+00, 8.64000000e+00, 8.19000000e+00, 7.56000000e+00,\n",
       "       6.75000000e+00, 5.76000000e+00, 4.59000000e+00, 3.24000000e+00,\n",
       "       1.71000000e+00, 1.77635684e-15])"
      ]
     },
     "execution_count": 89,
     "metadata": {},
     "output_type": "execute_result"
    }
   ],
   "source": [
    "# function value from the above values of x\n",
    "9-x**2"
   ]
  },
  {
   "cell_type": "code",
   "execution_count": 90,
   "metadata": {},
   "outputs": [
    {
     "name": "stdout",
     "output_type": "stream",
     "text": [
      "The approximation with Reiman Sum is 16.605\n"
     ]
    }
   ],
   "source": [
    "# Find reiman sum with the help of rsum method\n",
    "b.rsum(9-x**2)"
   ]
  },
  {
   "cell_type": "markdown",
   "metadata": {},
   "source": [
    "### Mid point approximation"
   ]
  },
  {
   "cell_type": "code",
   "execution_count": 91,
   "metadata": {},
   "outputs": [],
   "source": [
    "#creating object N=10, upper limit is 3 and lower limit  0is\n",
    "c=reiman_sum(10,3,0)"
   ]
  },
  {
   "cell_type": "code",
   "execution_count": 92,
   "metadata": {},
   "outputs": [
    {
     "name": "stdout",
     "output_type": "stream",
     "text": [
      "x=[0.15 0.45 0.75 1.05 1.35 1.65 1.95 2.25 2.55 2.85]\n"
     ]
    }
   ],
   "source": [
    "# Find the value of x which is actually interval points\n",
    "c.mid_point_approx()"
   ]
  },
  {
   "cell_type": "code",
   "execution_count": 93,
   "metadata": {},
   "outputs": [
    {
     "data": {
      "text/plain": [
       "array([8.9775, 8.7975, 8.4375, 7.8975, 7.1775, 6.2775, 5.1975, 3.9375,\n",
       "       2.4975, 0.8775])"
      ]
     },
     "execution_count": 93,
     "metadata": {},
     "output_type": "execute_result"
    }
   ],
   "source": [
    "# function value from the above values of x\n",
    "9-x**2"
   ]
  },
  {
   "cell_type": "code",
   "execution_count": 95,
   "metadata": {},
   "outputs": [
    {
     "name": "stdout",
     "output_type": "stream",
     "text": [
      "The approximation with Reiman Sum is 18.0225\n"
     ]
    }
   ],
   "source": [
    "# Find reiman sum with the help of rsum method\n",
    "c.rsum(9-x**2)"
   ]
  },
  {
   "cell_type": "code",
   "execution_count": null,
   "metadata": {},
   "outputs": [],
   "source": []
  },
  {
   "cell_type": "code",
   "execution_count": null,
   "metadata": {},
   "outputs": [],
   "source": []
  },
  {
   "cell_type": "raw",
   "metadata": {},
   "source": []
  }
 ],
 "metadata": {
  "kernelspec": {
   "display_name": "Python 3",
   "language": "python",
   "name": "python3"
  },
  "language_info": {
   "codemirror_mode": {
    "name": "ipython",
    "version": 3
   },
   "file_extension": ".py",
   "mimetype": "text/x-python",
   "name": "python",
   "nbconvert_exporter": "python",
   "pygments_lexer": "ipython3",
   "version": "3.7.0"
  }
 },
 "nbformat": 4,
 "nbformat_minor": 2
}
