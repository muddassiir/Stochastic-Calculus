{
 "cells": [
  {
   "cell_type": "code",
   "execution_count": null,
   "metadata": {},
   "outputs": [],
   "source": [
    "import numpy as np\n",
    "class reiman_sum:\n",
    "    def __init__(self,N,upper_limit,lower_limit):\n",
    "        global delta_x\n",
    "        self.N=N\n",
    "        self.b=upper_limit\n",
    "        self.a=lower_limit\n",
    "        delta_x=(upper_limit-lower_limit)/ N\n",
    "    def left_end_approx(self):\n",
    "        global x\n",
    "        x=[self.a]\n",
    "        for i in range(self.N-1):\n",
    "            element=x[i]+delta_x\n",
    "            x.append(element)\n",
    "        x=np.array(x)\n",
    "        print(f\"x={x}\")\n",
    "    def right_end_approx(self):\n",
    "        global x\n",
    "        x=[self.a+delta_x]\n",
    "        for i in range(self.N-1):\n",
    "            element=x[i]+delta_x\n",
    "            x.append(element)\n",
    "        x=np.array(x)\n",
    "        print(f\"x={x}\")\n",
    "    def mid_point_approx(self):\n",
    "        global x\n",
    "        mid_point=(self.a+delta_x)/2\n",
    "        x=[mid_point]\n",
    "        for i in range(self.N-1):\n",
    "            element=x[i]+delta_x\n",
    "            x.append(element)\n",
    "        x=np.array(x)\n",
    "        print(f\"x={x}\")\n",
    "    def rsum(self,fx):\n",
    "        self.fn=fx\n",
    "        fn=np.array(fx)\n",
    "        area=np.array(fn*delta_x)\n",
    "        left_end_approximation=area.sum()\n",
    "        print(f\"The approximation with Reiman Sum is {left_end_approximation}\")"
   ]
  }
 ],
 "metadata": {
  "kernelspec": {
   "display_name": "Python 3",
   "language": "python",
   "name": "python3"
  },
  "language_info": {
   "codemirror_mode": {
    "name": "ipython",
    "version": 3
   },
   "file_extension": ".py",
   "mimetype": "text/x-python",
   "name": "python",
   "nbconvert_exporter": "python",
   "pygments_lexer": "ipython3",
   "version": "3.7.0"
  }
 },
 "nbformat": 4,
 "nbformat_minor": 2
}
